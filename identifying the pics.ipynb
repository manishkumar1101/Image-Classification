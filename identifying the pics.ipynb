{
  "nbformat": 4,
  "nbformat_minor": 0,
  "metadata": {
    "colab": {
      "provenance": []
    },
    "kernelspec": {
      "name": "python3",
      "display_name": "Python 3"
    },
    "language_info": {
      "name": "python"
    }
  },
  "cells": [
    {
      "cell_type": "code",
      "execution_count": null,
      "metadata": {
        "colab": {
          "base_uri": "https://localhost:8080/"
        },
        "id": "NlejGyG-xYHP",
        "outputId": "3cdf0365-eb50-458a-acc2-108f01486672"
      },
      "outputs": [
        {
          "output_type": "stream",
          "name": "stdout",
          "text": [
            "2.15.0\n"
          ]
        }
      ],
      "source": [
        "import tensorflow as tf\n",
        "print(tf.__version__)"
      ]
    },
    {
      "cell_type": "code",
      "source": [
        "mnist=tf.keras.datasets.fashion_mnist"
      ],
      "metadata": {
        "id": "1AYaEkFRxlwK"
      },
      "execution_count": null,
      "outputs": []
    },
    {
      "cell_type": "code",
      "source": [
        "(training_images,training_lables),(test_images,test_lables)=mnist.load_data()"
      ],
      "metadata": {
        "colab": {
          "base_uri": "https://localhost:8080/"
        },
        "id": "-K9R3Voyx1aa",
        "outputId": "f8f923eb-b28a-4518-8748-989f7c4d7013"
      },
      "execution_count": null,
      "outputs": [
        {
          "output_type": "stream",
          "name": "stdout",
          "text": [
            "Downloading data from https://storage.googleapis.com/tensorflow/tf-keras-datasets/train-labels-idx1-ubyte.gz\n",
            "29515/29515 [==============================] - 0s 0us/step\n",
            "Downloading data from https://storage.googleapis.com/tensorflow/tf-keras-datasets/train-images-idx3-ubyte.gz\n",
            "26421880/26421880 [==============================] - 0s 0us/step\n",
            "Downloading data from https://storage.googleapis.com/tensorflow/tf-keras-datasets/t10k-labels-idx1-ubyte.gz\n",
            "5148/5148 [==============================] - 0s 0us/step\n",
            "Downloading data from https://storage.googleapis.com/tensorflow/tf-keras-datasets/t10k-images-idx3-ubyte.gz\n",
            "4422102/4422102 [==============================] - 0s 0us/step\n"
          ]
        }
      ]
    },
    {
      "cell_type": "code",
      "source": [
        "import matplotlib.pyplot as plt\n",
        "plt.imshow(training_images[0])\n",
        "print(training_lables[0])\n",
        "print(training_images[0])\n"
      ],
      "metadata": {
        "colab": {
          "base_uri": "https://localhost:8080/",
          "height": 1000
        },
        "id": "LGtkidALyKh8",
        "outputId": "360f2802-e0ba-4b9f-cc0f-7a559598dedf"
      },
      "execution_count": null,
      "outputs": [
        {
          "output_type": "stream",
          "name": "stdout",
          "text": [
            "9\n",
            "[[0.00000000e+00 0.00000000e+00 0.00000000e+00 0.00000000e+00\n",
            "  0.00000000e+00 0.00000000e+00 0.00000000e+00 0.00000000e+00\n",
            "  0.00000000e+00 0.00000000e+00 0.00000000e+00 0.00000000e+00\n",
            "  0.00000000e+00 0.00000000e+00 0.00000000e+00 0.00000000e+00\n",
            "  0.00000000e+00 0.00000000e+00 0.00000000e+00 0.00000000e+00\n",
            "  0.00000000e+00 0.00000000e+00 0.00000000e+00 0.00000000e+00\n",
            "  0.00000000e+00 0.00000000e+00 0.00000000e+00 0.00000000e+00]\n",
            " [0.00000000e+00 0.00000000e+00 0.00000000e+00 0.00000000e+00\n",
            "  0.00000000e+00 0.00000000e+00 0.00000000e+00 0.00000000e+00\n",
            "  0.00000000e+00 0.00000000e+00 0.00000000e+00 0.00000000e+00\n",
            "  0.00000000e+00 0.00000000e+00 0.00000000e+00 0.00000000e+00\n",
            "  0.00000000e+00 0.00000000e+00 0.00000000e+00 0.00000000e+00\n",
            "  0.00000000e+00 0.00000000e+00 0.00000000e+00 0.00000000e+00\n",
            "  0.00000000e+00 0.00000000e+00 0.00000000e+00 0.00000000e+00]\n",
            " [0.00000000e+00 0.00000000e+00 0.00000000e+00 0.00000000e+00\n",
            "  0.00000000e+00 0.00000000e+00 0.00000000e+00 0.00000000e+00\n",
            "  0.00000000e+00 0.00000000e+00 0.00000000e+00 0.00000000e+00\n",
            "  0.00000000e+00 0.00000000e+00 0.00000000e+00 0.00000000e+00\n",
            "  0.00000000e+00 0.00000000e+00 0.00000000e+00 0.00000000e+00\n",
            "  0.00000000e+00 0.00000000e+00 0.00000000e+00 0.00000000e+00\n",
            "  0.00000000e+00 0.00000000e+00 0.00000000e+00 0.00000000e+00]\n",
            " [0.00000000e+00 0.00000000e+00 0.00000000e+00 0.00000000e+00\n",
            "  0.00000000e+00 0.00000000e+00 0.00000000e+00 0.00000000e+00\n",
            "  0.00000000e+00 0.00000000e+00 0.00000000e+00 0.00000000e+00\n",
            "  6.03086294e-08 0.00000000e+00 0.00000000e+00 7.84012182e-07\n",
            "  4.40252995e-06 0.00000000e+00 0.00000000e+00 6.03086294e-08\n",
            "  2.41234518e-07 0.00000000e+00 0.00000000e+00 0.00000000e+00\n",
            "  0.00000000e+00 6.03086294e-08 6.03086294e-08 0.00000000e+00]\n",
            " [0.00000000e+00 0.00000000e+00 0.00000000e+00 0.00000000e+00\n",
            "  0.00000000e+00 0.00000000e+00 0.00000000e+00 0.00000000e+00\n",
            "  0.00000000e+00 0.00000000e+00 0.00000000e+00 0.00000000e+00\n",
            "  1.80925888e-07 0.00000000e+00 2.17111066e-06 8.20197360e-06\n",
            "  7.65919594e-06 3.73913502e-06 3.25666599e-06 0.00000000e+00\n",
            "  0.00000000e+00 0.00000000e+00 6.03086294e-08 1.80925888e-07\n",
            "  2.41234518e-07 0.00000000e+00 0.00000000e+00 1.80925888e-07]\n",
            " [0.00000000e+00 0.00000000e+00 0.00000000e+00 0.00000000e+00\n",
            "  0.00000000e+00 0.00000000e+00 0.00000000e+00 0.00000000e+00\n",
            "  0.00000000e+00 0.00000000e+00 0.00000000e+00 0.00000000e+00\n",
            "  3.61851776e-07 0.00000000e+00 6.15148020e-06 1.23029604e-05\n",
            "  1.06143188e-05 8.08135634e-06 8.68444264e-06 7.41796142e-06\n",
            "  1.38709848e-06 0.00000000e+00 0.00000000e+00 0.00000000e+00\n",
            "  0.00000000e+00 7.23703553e-07 6.03086294e-07 0.00000000e+00]\n",
            " [0.00000000e+00 0.00000000e+00 0.00000000e+00 0.00000000e+00\n",
            "  0.00000000e+00 0.00000000e+00 0.00000000e+00 0.00000000e+00\n",
            "  0.00000000e+00 0.00000000e+00 0.00000000e+00 0.00000000e+00\n",
            "  0.00000000e+00 0.00000000e+00 9.34783756e-06 1.42328365e-05\n",
            "  1.24838863e-05 1.07349360e-05 6.45302335e-06 9.40814619e-06\n",
            "  9.70968934e-06 6.57364061e-06 3.85975228e-06 1.38709848e-06\n",
            "  4.64376446e-06 7.84012182e-06 4.34222132e-06 9.04629441e-07]\n",
            " [0.00000000e+00 0.00000000e+00 0.00000000e+00 0.00000000e+00\n",
            "  0.00000000e+00 0.00000000e+00 0.00000000e+00 0.00000000e+00\n",
            "  0.00000000e+00 0.00000000e+00 0.00000000e+00 6.03086294e-08\n",
            "  0.00000000e+00 4.16129543e-06 1.24838863e-05 1.34488244e-05\n",
            "  1.31472812e-05 1.30266640e-05 1.30266640e-05 9.83030659e-06\n",
            "  7.65919594e-06 7.29734416e-06 7.35765279e-06 8.80505989e-06\n",
            "  8.50351675e-06 5.30715939e-06 1.03730843e-05 3.98036954e-06]\n",
            " [0.00000000e+00 0.00000000e+00 0.00000000e+00 0.00000000e+00\n",
            "  0.00000000e+00 0.00000000e+00 0.00000000e+00 0.00000000e+00\n",
            "  0.00000000e+00 6.03086294e-08 6.03086294e-08 6.03086294e-08\n",
            "  0.00000000e+00 1.20617259e-05 1.39916020e-05 1.39916020e-05\n",
            "  1.40519107e-05 1.38106761e-05 1.34488244e-05 1.34488244e-05\n",
            "  1.29663553e-05 1.28457381e-05 9.89061522e-06 7.65919594e-06\n",
            "  7.41796142e-06 1.18204914e-05 1.38106761e-05 0.00000000e+00]\n",
            " [0.00000000e+00 0.00000000e+00 0.00000000e+00 0.00000000e+00\n",
            "  0.00000000e+00 0.00000000e+00 0.00000000e+00 0.00000000e+00\n",
            "  0.00000000e+00 0.00000000e+00 0.00000000e+00 0.00000000e+00\n",
            "  0.00000000e+00 1.10364792e-05 1.35694416e-05 1.30266640e-05\n",
            "  1.34488244e-05 1.37503675e-05 1.41725279e-05 1.36900589e-05\n",
            "  1.35091330e-05 1.33885157e-05 1.35091330e-05 1.33282071e-05\n",
            "  1.34488244e-05 1.47756142e-05 1.04333929e-05 0.00000000e+00]\n",
            " [0.00000000e+00 0.00000000e+00 0.00000000e+00 0.00000000e+00\n",
            "  0.00000000e+00 0.00000000e+00 0.00000000e+00 0.00000000e+00\n",
            "  0.00000000e+00 0.00000000e+00 0.00000000e+00 0.00000000e+00\n",
            "  0.00000000e+00 1.16395655e-05 1.37503675e-05 1.31472812e-05\n",
            "  1.28457381e-05 1.19411086e-05 1.08555533e-05 1.27854294e-05\n",
            "  1.26648122e-05 1.27251208e-05 1.28457381e-05 1.34488244e-05\n",
            "  1.32678985e-05 1.46549969e-05 1.21823431e-05 0.00000000e+00]\n",
            " [0.00000000e+00 0.00000000e+00 0.00000000e+00 0.00000000e+00\n",
            "  0.00000000e+00 0.00000000e+00 0.00000000e+00 0.00000000e+00\n",
            "  0.00000000e+00 6.03086294e-08 1.80925888e-07 0.00000000e+00\n",
            "  7.23703553e-07 1.32075898e-05 1.32678985e-05 1.27854294e-05\n",
            "  1.31472812e-05 1.15792568e-05 1.01921584e-05 1.36900589e-05\n",
            "  1.25441949e-05 1.31472812e-05 1.35091330e-05 1.27854294e-05\n",
            "  1.36297502e-05 1.18808000e-05 1.26045035e-05 3.13604873e-06]\n",
            " [0.00000000e+00 0.00000000e+00 0.00000000e+00 0.00000000e+00\n",
            "  0.00000000e+00 0.00000000e+00 0.00000000e+00 0.00000000e+00\n",
            "  0.00000000e+00 0.00000000e+00 3.61851776e-07 0.00000000e+00\n",
            "  5.97055431e-06 1.47153056e-05 1.33885157e-05 1.32678985e-05\n",
            "  1.31472812e-05 1.22426518e-05 1.19411086e-05 1.33282071e-05\n",
            "  1.29663553e-05 1.28457381e-05 1.33885157e-05 1.32678985e-05\n",
            "  1.47756142e-05 7.17672690e-06 1.00715411e-05 3.37728325e-06]\n",
            " [0.00000000e+00 0.00000000e+00 0.00000000e+00 0.00000000e+00\n",
            "  0.00000000e+00 0.00000000e+00 0.00000000e+00 0.00000000e+00\n",
            "  0.00000000e+00 2.41234518e-07 0.00000000e+00 0.00000000e+00\n",
            "  3.31697462e-06 1.42328365e-05 1.37503675e-05 1.38709848e-05\n",
            "  1.37503675e-05 1.44740711e-05 1.39916020e-05 1.28457381e-05\n",
            "  1.31472812e-05 1.34488244e-05 1.41122193e-05 1.30869726e-05\n",
            "  1.30869726e-05 1.26045035e-05 5.54839391e-06 0.00000000e+00]\n",
            " [0.00000000e+00 0.00000000e+00 6.03086294e-08 2.41234518e-07\n",
            "  3.61851776e-07 4.22160406e-07 1.20617259e-07 0.00000000e+00\n",
            "  0.00000000e+00 0.00000000e+00 0.00000000e+00 0.00000000e+00\n",
            "  1.42931452e-05 1.36297502e-05 1.30869726e-05 1.34488244e-05\n",
            "  1.33885157e-05 1.32075898e-05 1.33885157e-05 1.33282071e-05\n",
            "  1.30266640e-05 1.34488244e-05 1.38106761e-05 1.29663553e-05\n",
            "  1.31472812e-05 1.53787005e-05 4.64376446e-06 0.00000000e+00]\n",
            " [0.00000000e+00 1.80925888e-07 0.00000000e+00 0.00000000e+00\n",
            "  0.00000000e+00 0.00000000e+00 0.00000000e+00 0.00000000e+00\n",
            "  0.00000000e+00 3.73913502e-06 8.74475126e-06 1.23029604e-05\n",
            "  1.37503675e-05 1.24838863e-05 1.28457381e-05 1.33282071e-05\n",
            "  1.31472812e-05 1.25441949e-05 1.27251208e-05 1.31472812e-05\n",
            "  1.35091330e-05 1.34488244e-05 1.32075898e-05 1.29663553e-05\n",
            "  1.35091330e-05 1.47153056e-05 9.58907208e-06 0.00000000e+00]\n",
            " [0.00000000e+00 0.00000000e+00 0.00000000e+00 0.00000000e+00\n",
            "  1.08555533e-06 2.65357969e-06 4.94530761e-06 6.45302335e-06\n",
            "  1.13983310e-05 1.37503675e-05 1.32678985e-05 1.33885157e-05\n",
            "  1.30869726e-05 1.36297502e-05 1.20617259e-05 1.23632690e-05\n",
            "  1.27251208e-05 1.38709848e-05 1.35091330e-05 1.41122193e-05\n",
            "  1.06143188e-05 1.13380223e-05 1.50771574e-05 1.49565401e-05\n",
            "  1.40519107e-05 1.43534538e-05 1.29663553e-05 0.00000000e+00]\n",
            " [0.00000000e+00 3.43759188e-06 1.12777137e-05 1.25441949e-05\n",
            "  1.35091330e-05 1.33282071e-05 1.35091330e-05 1.25441949e-05\n",
            "  1.23029604e-05 1.29060467e-05 1.25441949e-05 1.26045035e-05\n",
            "  1.20617259e-05 9.58907208e-06 1.47756142e-05 1.16395655e-05\n",
            "  1.24235777e-05 1.34488244e-05 1.53787005e-05 1.53787005e-05\n",
            "  1.33282071e-05 1.41122193e-05 1.33282071e-05 1.27251208e-05\n",
            "  1.32678985e-05 1.39916020e-05 1.48359228e-05 0.00000000e+00]\n",
            " [1.80925888e-07 1.21823431e-05 1.37503675e-05 1.35091330e-05\n",
            "  1.33282071e-05 1.27251208e-05 1.27251208e-05 1.29060467e-05\n",
            "  1.23632690e-05 1.23632690e-05 1.23632690e-05 1.32678985e-05\n",
            "  1.44740711e-05 4.82469035e-06 9.04629441e-06 1.53787005e-05\n",
            "  1.38106761e-05 1.33282071e-05 1.13380223e-05 9.28752893e-06\n",
            "  1.15189482e-05 1.26648122e-05 1.23029604e-05 1.26045035e-05\n",
            "  1.33885157e-05 1.37503675e-05 1.35694416e-05 0.00000000e+00]\n",
            " [5.91024568e-06 1.40519107e-05 1.19411086e-05 1.26648122e-05\n",
            "  1.33885157e-05 1.38106761e-05 1.38106761e-05 1.41122193e-05\n",
            "  1.50168487e-05 1.32678985e-05 1.16998741e-05 1.29663553e-05\n",
            "  1.30869726e-05 1.45343797e-05 3.92006091e-06 4.40252995e-06\n",
            "  6.39271472e-06 7.05610964e-06 1.01318497e-05 1.32075898e-05\n",
            "  1.33282071e-05 1.29663553e-05 1.30869726e-05 1.34488244e-05\n",
            "  1.34488244e-05 1.35091330e-05 1.38106761e-05 1.74895025e-06]\n",
            " [4.52314721e-06 1.23029604e-05 1.27854294e-05 1.23029604e-05\n",
            "  1.16395655e-05 1.23632690e-05 1.27251208e-05 1.35694416e-05\n",
            "  1.30266640e-05 1.11570964e-05 1.18808000e-05 1.24235777e-05\n",
            "  1.19411086e-05 1.28457381e-05 1.44740711e-05 1.17601827e-05\n",
            "  1.36900589e-05 1.47756142e-05 1.44137624e-05 1.34488244e-05\n",
            "  1.31472812e-05 1.27854294e-05 1.26045035e-05 1.33885157e-05\n",
            "  1.32678985e-05 1.33282071e-05 1.38709848e-05 4.04067817e-06]\n",
            " [2.89481421e-06 1.22426518e-05 1.10364792e-05 1.16998741e-05\n",
            "  1.28457381e-05 1.18808000e-05 1.11570964e-05 1.14586396e-05\n",
            "  1.16998741e-05 1.15792568e-05 1.21823431e-05 1.29060467e-05\n",
            "  1.32075898e-05 1.33282071e-05 1.32678985e-05 1.42328365e-05\n",
            "  1.35694416e-05 1.30266640e-05 1.20014173e-05 1.24235777e-05\n",
            "  1.12174051e-05 1.09158619e-05 1.06746274e-05 1.03730843e-05\n",
            "  1.09158619e-05 1.23632690e-05 1.24235777e-05 6.93549238e-06]\n",
            " [0.00000000e+00 7.35765279e-06 1.32075898e-05 1.16395655e-05\n",
            "  1.07952447e-05 1.03127756e-05 1.10364792e-05 1.18204914e-05\n",
            "  1.23029604e-05 1.26648122e-05 1.28457381e-05 1.24838863e-05\n",
            "  1.27251208e-05 1.26648122e-05 1.20617259e-05 1.18204914e-05\n",
            "  1.16998741e-05 1.15189482e-05 1.17601827e-05 1.15189482e-05\n",
            "  1.19411086e-05 1.15792568e-05 1.06143188e-05 9.40814619e-06\n",
            "  1.00715411e-05 1.06746274e-05 1.26648122e-05 5.54839391e-06]\n",
            " [0.00000000e+00 0.00000000e+00 4.46283858e-06 1.13983310e-05\n",
            "  1.27854294e-05 1.15189482e-05 1.05540101e-05 1.03730843e-05\n",
            "  1.05540101e-05 1.09158619e-05 1.11570964e-05 1.13380223e-05\n",
            "  1.13983310e-05 1.13380223e-05 1.16395655e-05 1.19411086e-05\n",
            "  1.23029604e-05 1.26045035e-05 1.26648122e-05 1.26648122e-05\n",
            "  1.27251208e-05 1.13380223e-05 1.13380223e-05 1.16998741e-05\n",
            "  1.15792568e-05 1.30266640e-05 1.02524670e-05 0.00000000e+00]\n",
            " [1.20617259e-07 0.00000000e+00 0.00000000e+00 0.00000000e+00\n",
            "  3.98036954e-06 1.20617259e-05 1.33885157e-05 1.42931452e-05\n",
            "  1.44137624e-05 1.45946883e-05 1.48359228e-05 1.46549969e-05\n",
            "  1.47153056e-05 1.33282071e-05 1.32678985e-05 1.16395655e-05\n",
            "  1.15189482e-05 1.07952447e-05 1.09761706e-05 1.09761706e-05\n",
            "  1.09158619e-05 1.06143188e-05 1.00112325e-05 1.01318497e-05\n",
            "  5.97055431e-06 3.49790051e-06 0.00000000e+00 0.00000000e+00]\n",
            " [0.00000000e+00 0.00000000e+00 0.00000000e+00 0.00000000e+00\n",
            "  0.00000000e+00 0.00000000e+00 0.00000000e+00 2.41234518e-06\n",
            "  3.67882639e-06 2.65357969e-06 4.34222132e-06 2.47265381e-06\n",
            "  2.11080203e-06 0.00000000e+00 0.00000000e+00 0.00000000e+00\n",
            "  0.00000000e+00 0.00000000e+00 0.00000000e+00 0.00000000e+00\n",
            "  0.00000000e+00 0.00000000e+00 0.00000000e+00 0.00000000e+00\n",
            "  0.00000000e+00 0.00000000e+00 0.00000000e+00 0.00000000e+00]\n",
            " [0.00000000e+00 0.00000000e+00 0.00000000e+00 0.00000000e+00\n",
            "  0.00000000e+00 0.00000000e+00 0.00000000e+00 0.00000000e+00\n",
            "  0.00000000e+00 0.00000000e+00 0.00000000e+00 0.00000000e+00\n",
            "  0.00000000e+00 0.00000000e+00 0.00000000e+00 0.00000000e+00\n",
            "  0.00000000e+00 0.00000000e+00 0.00000000e+00 0.00000000e+00\n",
            "  0.00000000e+00 0.00000000e+00 0.00000000e+00 0.00000000e+00\n",
            "  0.00000000e+00 0.00000000e+00 0.00000000e+00 0.00000000e+00]\n",
            " [0.00000000e+00 0.00000000e+00 0.00000000e+00 0.00000000e+00\n",
            "  0.00000000e+00 0.00000000e+00 0.00000000e+00 0.00000000e+00\n",
            "  0.00000000e+00 0.00000000e+00 0.00000000e+00 0.00000000e+00\n",
            "  0.00000000e+00 0.00000000e+00 0.00000000e+00 0.00000000e+00\n",
            "  0.00000000e+00 0.00000000e+00 0.00000000e+00 0.00000000e+00\n",
            "  0.00000000e+00 0.00000000e+00 0.00000000e+00 0.00000000e+00\n",
            "  0.00000000e+00 0.00000000e+00 0.00000000e+00 0.00000000e+00]]\n"
          ]
        },
        {
          "output_type": "display_data",
          "data": {
            "text/plain": [
              "<Figure size 640x480 with 1 Axes>"
            ],
            "image/png": "[encoded data removed]"
          },
          "metadata": {}
        }
      ]
    },
    {
      "cell_type": "code",
      "source": [
        "training_images=training_images/255.0\n",
        "test_images=test_images/255.0\n",
        "print(training_images)\n",
        "print(\"------------------------------\")\n",
        "print(test_images)"
      ],
      "metadata": {
        "colab": {
          "base_uri": "https://localhost:8080/"
        },
        "id": "Pf28j-M1yzoR",
        "outputId": "8a8f45ce-aee2-402d-e1df-8ebc47348062"
      },
      "execution_count": null,
      "outputs": [
        {
          "output_type": "stream",
          "name": "stdout",
          "text": [
            "[[[0. 0. 0. ... 0. 0. 0.]\n",
            "  [0. 0. 0. ... 0. 0. 0.]\n",
            "  [0. 0. 0. ... 0. 0. 0.]\n",
            "  ...\n",
            "  [0. 0. 0. ... 0. 0. 0.]\n",
            "  [0. 0. 0. ... 0. 0. 0.]\n",
            "  [0. 0. 0. ... 0. 0. 0.]]\n",
            "\n",
            " [[0. 0. 0. ... 0. 0. 0.]\n",
            "  [0. 0. 0. ... 0. 0. 0.]\n",
            "  [0. 0. 0. ... 0. 0. 0.]\n",
            "  ...\n",
            "  [0. 0. 0. ... 0. 0. 0.]\n",
            "  [0. 0. 0. ... 0. 0. 0.]\n",
            "  [0. 0. 0. ... 0. 0. 0.]]\n",
            "\n",
            " [[0. 0. 0. ... 0. 0. 0.]\n",
            "  [0. 0. 0. ... 0. 0. 0.]\n",
            "  [0. 0. 0. ... 0. 0. 0.]\n",
            "  ...\n",
            "  [0. 0. 0. ... 0. 0. 0.]\n",
            "  [0. 0. 0. ... 0. 0. 0.]\n",
            "  [0. 0. 0. ... 0. 0. 0.]]\n",
            "\n",
            " ...\n",
            "\n",
            " [[0. 0. 0. ... 0. 0. 0.]\n",
            "  [0. 0. 0. ... 0. 0. 0.]\n",
            "  [0. 0. 0. ... 0. 0. 0.]\n",
            "  ...\n",
            "  [0. 0. 0. ... 0. 0. 0.]\n",
            "  [0. 0. 0. ... 0. 0. 0.]\n",
            "  [0. 0. 0. ... 0. 0. 0.]]\n",
            "\n",
            " [[0. 0. 0. ... 0. 0. 0.]\n",
            "  [0. 0. 0. ... 0. 0. 0.]\n",
            "  [0. 0. 0. ... 0. 0. 0.]\n",
            "  ...\n",
            "  [0. 0. 0. ... 0. 0. 0.]\n",
            "  [0. 0. 0. ... 0. 0. 0.]\n",
            "  [0. 0. 0. ... 0. 0. 0.]]\n",
            "\n",
            " [[0. 0. 0. ... 0. 0. 0.]\n",
            "  [0. 0. 0. ... 0. 0. 0.]\n",
            "  [0. 0. 0. ... 0. 0. 0.]\n",
            "  ...\n",
            "  [0. 0. 0. ... 0. 0. 0.]\n",
            "  [0. 0. 0. ... 0. 0. 0.]\n",
            "  [0. 0. 0. ... 0. 0. 0.]]]\n",
            "------------------------------\n",
            "[[[0. 0. 0. ... 0. 0. 0.]\n",
            "  [0. 0. 0. ... 0. 0. 0.]\n",
            "  [0. 0. 0. ... 0. 0. 0.]\n",
            "  ...\n",
            "  [0. 0. 0. ... 0. 0. 0.]\n",
            "  [0. 0. 0. ... 0. 0. 0.]\n",
            "  [0. 0. 0. ... 0. 0. 0.]]\n",
            "\n",
            " [[0. 0. 0. ... 0. 0. 0.]\n",
            "  [0. 0. 0. ... 0. 0. 0.]\n",
            "  [0. 0. 0. ... 0. 0. 0.]\n",
            "  ...\n",
            "  [0. 0. 0. ... 0. 0. 0.]\n",
            "  [0. 0. 0. ... 0. 0. 0.]\n",
            "  [0. 0. 0. ... 0. 0. 0.]]\n",
            "\n",
            " [[0. 0. 0. ... 0. 0. 0.]\n",
            "  [0. 0. 0. ... 0. 0. 0.]\n",
            "  [0. 0. 0. ... 0. 0. 0.]\n",
            "  ...\n",
            "  [0. 0. 0. ... 0. 0. 0.]\n",
            "  [0. 0. 0. ... 0. 0. 0.]\n",
            "  [0. 0. 0. ... 0. 0. 0.]]\n",
            "\n",
            " ...\n",
            "\n",
            " [[0. 0. 0. ... 0. 0. 0.]\n",
            "  [0. 0. 0. ... 0. 0. 0.]\n",
            "  [0. 0. 0. ... 0. 0. 0.]\n",
            "  ...\n",
            "  [0. 0. 0. ... 0. 0. 0.]\n",
            "  [0. 0. 0. ... 0. 0. 0.]\n",
            "  [0. 0. 0. ... 0. 0. 0.]]\n",
            "\n",
            " [[0. 0. 0. ... 0. 0. 0.]\n",
            "  [0. 0. 0. ... 0. 0. 0.]\n",
            "  [0. 0. 0. ... 0. 0. 0.]\n",
            "  ...\n",
            "  [0. 0. 0. ... 0. 0. 0.]\n",
            "  [0. 0. 0. ... 0. 0. 0.]\n",
            "  [0. 0. 0. ... 0. 0. 0.]]\n",
            "\n",
            " [[0. 0. 0. ... 0. 0. 0.]\n",
            "  [0. 0. 0. ... 0. 0. 0.]\n",
            "  [0. 0. 0. ... 0. 0. 0.]\n",
            "  ...\n",
            "  [0. 0. 0. ... 0. 0. 0.]\n",
            "  [0. 0. 0. ... 0. 0. 0.]\n",
            "  [0. 0. 0. ... 0. 0. 0.]]]\n"
          ]
        }
      ]
    },
    {
      "cell_type": "code",
      "source": [
        "model=tf.keras.models.Sequential([tf.keras.layers.Flatten(),tf.keras.layers.Dense(128,activation=tf.nn.relu),tf.keras.layers.Dense(10,activation=tf.nn.softmax)])"
      ],
      "metadata": {
        "id": "Y0n8ilpR0zrT"
      },
      "execution_count": null,
      "outputs": []
    },
    {
      "cell_type": "code",
      "source": [
        "model.compile(optimizer=tf.keras.optimizers.Adam(),loss='sparse_categorical_crossentropy',metrics=['accuracy'])\n",
        "model.fit(training_images,training_lables,epochs=10)"
      ],
      "metadata": {
        "colab": {
          "base_uri": "https://localhost:8080/"
        },
        "id": "ddzSaccc1nva",
        "outputId": "664c39b1-29c5-4843-b3c1-1caa2295e152"
      },
      "execution_count": null,
      "outputs": [
        {
          "output_type": "stream",
          "name": "stdout",
          "text": [
            "Epoch 1/10\n",
            "1875/1875 [==============================] - 7s 4ms/step - loss: 2.1977 - accuracy: 0.3158\n",
            "Epoch 2/10\n",
            "1875/1875 [==============================] - 5s 3ms/step - loss: 2.1567 - accuracy: 0.3074\n",
            "Epoch 3/10\n",
            "1875/1875 [==============================] - 7s 4ms/step - loss: 2.1117 - accuracy: 0.3288\n",
            "Epoch 4/10\n",
            "1875/1875 [==============================] - 5s 3ms/step - loss: 2.0649 - accuracy: 0.3483\n",
            "Epoch 5/10\n",
            "1875/1875 [==============================] - 6s 3ms/step - loss: 2.0175 - accuracy: 0.3648\n",
            "Epoch 6/10\n",
            "1875/1875 [==============================] - 6s 3ms/step - loss: 1.9712 - accuracy: 0.3805\n",
            "Epoch 7/10\n",
            "1875/1875 [==============================] - 5s 3ms/step - loss: 1.9255 - accuracy: 0.3813\n",
            "Epoch 8/10\n",
            "1875/1875 [==============================] - 7s 4ms/step - loss: 1.8818 - accuracy: 0.3923\n",
            "Epoch 9/10\n",
            "1875/1875 [==============================] - 5s 3ms/step - loss: 1.8400 - accuracy: 0.4170\n",
            "Epoch 10/10\n",
            "1875/1875 [==============================] - 6s 3ms/step - loss: 1.7997 - accuracy: 0.4272\n"
          ]
        },
        {
          "output_type": "execute_result",
          "data": {
            "text/plain": [
              "<keras.src.callbacks.History at 0x7b613097a080>"
            ]
          },
          "metadata": {},
          "execution_count": 18
        }
      ]
    },
    {
      "cell_type": "code",
      "source": [
        "model.evaluate(test_images,test_lables)"
      ],
      "metadata": {
        "colab": {
          "base_uri": "https://localhost:8080/"
        },
        "id": "Pj4knuuG4gVQ",
        "outputId": "0cc0ead6-2a5b-4bed-e04b-b758da18e804"
      },
      "execution_count": null,
      "outputs": [
        {
          "output_type": "stream",
          "name": "stdout",
          "text": [
            "313/313 [==============================] - 1s 3ms/step - loss: 1.7829 - accuracy: 0.4044\n"
          ]
        },
        {
          "output_type": "execute_result",
          "data": {
            "text/plain": [
              "[1.7828761339187622, 0.4043999910354614]"
            ]
          },
          "metadata": {},
          "execution_count": 19
        }
      ]
    },
    {
      "cell_type": "code",
      "source": [
        "classifications=model.predict(test_images)\n",
        "print(classifications[0])"
      ],
      "metadata": {
        "colab": {
          "base_uri": "https://localhost:8080/"
        },
        "id": "SgfOo5Ze4wSk",
        "outputId": "9ab0a256-1481-4b4a-f46e-206678ae2868"
      },
      "execution_count": null,
      "outputs": [
        {
          "output_type": "stream",
          "name": "stdout",
          "text": [
            "313/313 [==============================] - 0s 1ms/step\n",
            "[0.01493554 0.01900824 0.03703842 0.01733964 0.02949481 0.23843205\n",
            " 0.03593962 0.25914854 0.11835412 0.23030896]\n"
          ]
        }
      ]
    },
    {
      "cell_type": "code",
      "source": [
        "print(test_lables[0])"
      ],
      "metadata": {
        "colab": {
          "base_uri": "https://localhost:8080/"
        },
        "id": "Hplj_Pjk6Pop",
        "outputId": "675e220c-85d2-45f8-ab28-0b1d5784740d"
      },
      "execution_count": null,
      "outputs": [
        {
          "output_type": "stream",
          "name": "stdout",
          "text": [
            "9\n"
          ]
        }
      ]
    },
    {
      "cell_type": "code",
      "source": [
        "model=tf.keras.models.Sequential([tf.keras.layers.Flatten(),tf.keras.layers.Dense(512,activation=tf.nn.relu),tf.keras.layers.Dense(10,activation=tf.nn.softmax)])"
      ],
      "metadata": {
        "id": "s4lP-oIfAo1x"
      },
      "execution_count": null,
      "outputs": []
    },
    {
      "cell_type": "code",
      "source": [
        "model.compile(optimizer=tf.keras.optimizers.Adam(),loss='sparse_categorical_crossentropy',metrics=['accuracy'])\n",
        "model.fit(training_images,training_lables,epochs=10)"
      ],
      "metadata": {
        "colab": {
          "base_uri": "https://localhost:8080/"
        },
        "outputId": "f75a5941-e372-496b-ab23-e775a6441c24",
        "id": "LyKDia_vBJ9E"
      },
      "execution_count": null,
      "outputs": [
        {
          "output_type": "stream",
          "name": "stdout",
          "text": [
            "Epoch 1/10\n",
            "1875/1875 [==============================] - 20s 10ms/step - loss: 2.3028 - accuracy: 0.0966\n",
            "Epoch 2/10\n",
            "1875/1875 [==============================] - 23s 12ms/step - loss: 2.3028 - accuracy: 0.0985\n",
            "Epoch 3/10\n",
            "1875/1875 [==============================] - 23s 12ms/step - loss: 2.3028 - accuracy: 0.0986\n",
            "Epoch 4/10\n",
            "1875/1875 [==============================] - 20s 11ms/step - loss: 2.3028 - accuracy: 0.0984\n",
            "Epoch 5/10\n",
            "1875/1875 [==============================] - 19s 10ms/step - loss: 2.3027 - accuracy: 0.1004\n",
            "Epoch 6/10\n",
            "1875/1875 [==============================] - 20s 11ms/step - loss: 2.3028 - accuracy: 0.0994\n",
            "Epoch 7/10\n",
            "1875/1875 [==============================] - 20s 11ms/step - loss: 2.3028 - accuracy: 0.0982\n",
            "Epoch 8/10\n",
            "1875/1875 [==============================] - 19s 10ms/step - loss: 2.3028 - accuracy: 0.0972\n",
            "Epoch 9/10\n",
            "1875/1875 [==============================] - 20s 11ms/step - loss: 2.3028 - accuracy: 0.1001\n",
            "Epoch 10/10\n",
            "1875/1875 [==============================] - 18s 10ms/step - loss: 2.3027 - accuracy: 0.1006\n"
          ]
        },
        {
          "output_type": "execute_result",
          "data": {
            "text/plain": [
              "<keras.src.callbacks.History at 0x7b61352cbc40>"
            ]
          },
          "metadata": {},
          "execution_count": 35
        }
      ]
    },
    {
      "cell_type": "code",
      "source": [
        "model.evaluate(test_images,test_lables)\n",
        "classifications = model.predict(test_images)\n",
        "print(classifications[0])\n",
        "print(test_lables[0])"
      ],
      "metadata": {
        "colab": {
          "base_uri": "https://localhost:8080/"
        },
        "id": "nfqTYlZtCQfY",
        "outputId": "8c0623ac-aeb3-4517-95fe-d5a942389a46"
      },
      "execution_count": null,
      "outputs": [
        {
          "output_type": "stream",
          "name": "stdout",
          "text": [
            "313/313 [==============================] - 1s 4ms/step - loss: 2.3027 - accuracy: 0.1000\n",
            "313/313 [==============================] - 1s 5ms/step\n",
            "[0.10143649 0.0993341  0.10045061 0.1023094  0.0978343  0.10006615\n",
            " 0.0986282  0.10120461 0.09931255 0.09942354]\n",
            "9\n"
          ]
        }
      ]
    },
    {
      "cell_type": "code",
      "source": [
        "import tensorflow as tf\n",
        "print(tf.__version__)\n",
        "mnist = tf.keras.datasets.fashion_mnist\n",
        "(training_images, training_labels), (test_images, test_labels) = mnist.load_data()\n",
        "#training_images=training_images/255.0\n",
        "#test_images=test_images/255.0\n",
        "model = tf.keras.models.Sequential([\n",
        "  tf.keras.layers.Flatten(),\n",
        "  tf.keras.layers.Dense(512, activation=tf.nn.relu),\n",
        "  tf.keras.layers.Dense(10, activation=tf.nn.softmax)\n",
        "])\n",
        "model.compile(optimizer='adam', loss='sparse_categorical_crossentropy')\n",
        "model.fit(training_images, training_labels, epochs=5)\n",
        "model.evaluate(test_images, test_labels)\n",
        "classifications = model.predict(test_images)\n",
        "print(classifications[0])\n",
        "print(test_labels[0])"
      ],
      "metadata": {
        "colab": {
          "base_uri": "https://localhost:8080/"
        },
        "id": "7gcdt0JNDKOr",
        "outputId": "af0b8bdb-9c84-4e5b-dc3d-6cad0eb0c5c4"
      },
      "execution_count": null,
      "outputs": [
        {
          "output_type": "stream",
          "name": "stdout",
          "text": [
            "2.15.0\n",
            "Epoch 1/5\n",
            "1875/1875 [==============================] - 18s 9ms/step - loss: 4.1544\n",
            "Epoch 2/5\n",
            "1875/1875 [==============================] - 17s 9ms/step - loss: 0.5593\n",
            "Epoch 3/5\n",
            "1875/1875 [==============================] - 17s 9ms/step - loss: 0.5142\n",
            "Epoch 4/5\n",
            "1875/1875 [==============================] - 19s 10ms/step - loss: 0.5020\n",
            "Epoch 5/5\n",
            "1875/1875 [==============================] - 18s 9ms/step - loss: 0.4751\n",
            "313/313 [==============================] - 1s 4ms/step - loss: 0.5518\n",
            "313/313 [==============================] - 1s 3ms/step\n",
            "[4.2130258e-12 9.8527241e-13 1.7379619e-13 1.6011040e-09 3.9214809e-18\n",
            " 1.3873209e-03 1.4905751e-13 8.4058205e-03 3.3112367e-11 9.9020696e-01]\n",
            "9\n"
          ]
        }
      ]
    },
    {
      "cell_type": "code",
      "source": [
        "import tensorflow as tf\n",
        "\n",
        "class myCallback(tf.keras.callbacks.Callback):\n",
        "  def on_epoch_end(self, epoch, logs={}):\n",
        "    if(logs.get('accuracy')>0.95):\n",
        "      print(\"\\nReached 95% accuracy so cancelling training!\")\n",
        "      self.model.stop_training = True\n",
        "\n",
        "callbacks = myCallback()\n",
        "mnist = tf.keras.datasets.fashion_mnist\n",
        "(training_images, training_labels), (test_images, test_labels) = mnist.load_data()\n",
        "training_images=training_images/255.0\n",
        "test_images=test_images/255.0\n",
        "model = tf.keras.models.Sequential([\n",
        "  tf.keras.layers.Flatten(),\n",
        "  tf.keras.layers.Dense(512, activation=tf.nn.relu),\n",
        "  tf.keras.layers.Dense(10, activation=tf.nn.softmax)\n",
        "])\n",
        "model.compile(optimizer='adam', loss='sparse_categorical_crossentropy', metrics=['accuracy'])\n",
        "model.fit(training_images, training_labels, epochs=5, callbacks=[callbacks])"
      ],
      "metadata": {
        "colab": {
          "base_uri": "https://localhost:8080/"
        },
        "id": "A4S_6gZ1EJ5z",
        "outputId": "cb50892d-3a96-4eb2-a135-897f40a7e902"
      },
      "execution_count": null,
      "outputs": [
        {
          "output_type": "stream",
          "name": "stdout",
          "text": [
            "Epoch 1/5\n",
            "1875/1875 [==============================] - 18s 9ms/step - loss: 0.4748 - accuracy: 0.8302\n",
            "Epoch 2/5\n",
            "1875/1875 [==============================] - 18s 9ms/step - loss: 0.3590 - accuracy: 0.8677\n",
            "Epoch 3/5\n",
            "1875/1875 [==============================] - 19s 10ms/step - loss: 0.3207 - accuracy: 0.8821\n",
            "Epoch 4/5\n",
            "1875/1875 [==============================] - 18s 10ms/step - loss: 0.2985 - accuracy: 0.8901\n",
            "Epoch 5/5\n",
            "1875/1875 [==============================] - 18s 10ms/step - loss: 0.2801 - accuracy: 0.8970\n"
          ]
        },
        {
          "output_type": "execute_result",
          "data": {
            "text/plain": [
              "<keras.src.callbacks.History at 0x7b6115858ca0>"
            ]
          },
          "metadata": {},
          "execution_count": 40
        }
      ]
    },
    {
      "cell_type": "code",
      "source": [
        "model.evaluate(test_images,test_lables)\n",
        "classifications = model.predict(test_images)\n",
        "print(classifications[0])\n",
        "print(test_lables[0])"
      ],
      "metadata": {
        "id": "u9DZedAnEzp1",
        "outputId": "23dcd447-871d-441f-dfa5-c002d07cd3f5",
        "colab": {
          "base_uri": "https://localhost:8080/"
        }
      },
      "execution_count": null,
      "outputs": [
        {
          "output_type": "stream",
          "name": "stdout",
          "text": [
            "313/313 [==============================] - 2s 5ms/step - loss: 0.3527 - accuracy: 0.8734\n",
            "313/313 [==============================] - 1s 4ms/step\n",
            "[2.7881093e-05 8.8403942e-07 2.2658111e-07 6.9830342e-08 6.1681243e-07\n",
            " 1.4846862e-03 7.4380173e-06 1.5902236e-02 9.8000065e-08 9.8257583e-01]\n",
            "9\n"
          ]
        }
      ]
    }
  ]
}